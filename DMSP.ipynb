{
 "cells": [
  {
   "cell_type": "code",
   "execution_count": 1,
   "id": "933522e5-c203-4cf0-b5ef-458ddb27cdf8",
   "metadata": {},
   "outputs": [],
   "source": [
    "import numpy as np\n",
    "import tifffile\n",
    "import pandas as pd"
   ]
  },
  {
   "cell_type": "code",
   "execution_count": 2,
   "id": "6b67d62d-45a6-4872-8fe5-28c725857bf4",
   "metadata": {},
   "outputs": [],
   "source": [
    "DMSP_R1=20.4/2.0     #cm\n",
    "DMSP_S_eff=239.3     #cm^2\n",
    "DMSP_focus_eff=122.0 #cm\n",
    "DMSP_h=833           #km\n",
    "DMSP_IFOV=30*1/60/60 #deg (30 acrs)"
   ]
  },
  {
   "cell_type": "code",
   "execution_count": 3,
   "id": "ee40e90a-7870-41a4-8cf4-b6ba561ae0a5",
   "metadata": {},
   "outputs": [],
   "source": [
    "ev_to_joules = 1.6022e-19                          # eV/j\n",
    "photon_e_average = 1.85                            # eV\n",
    "sr_pmt=2*np.pi*(1-np.cos(DMSP_IFOV/180.0*np.pi))   # steradian\n",
    "W_percm2_perster = 1.0e-5                          # W per cm2 per steradian\n",
    "Sx_km = 2*np.tan(DMSP_IFOV/2.0/180.0*np.pi)*DMSP_h # km"
   ]
  },
  {
   "cell_type": "code",
   "execution_count": 4,
   "id": "0651e257-4e43-4363-821c-ac61a3493129",
   "metadata": {},
   "outputs": [
    {
     "data": {
      "text/plain": [
       "59.281400000000005"
      ]
     },
     "execution_count": 4,
     "metadata": {},
     "output_type": "execute_result"
    }
   ],
   "source": [
    "N=2.0*10**20\n",
    "N*photon_e_average*ev_to_joules"
   ]
  },
  {
   "cell_type": "code",
   "execution_count": 5,
   "id": "300fb035-6239-4362-a3c3-e31be48007ef",
   "metadata": {},
   "outputs": [
    {
     "name": "stdout",
     "output_type": "stream",
     "text": [
      "flux per km^2 per s per sr = \n"
     ]
    },
    {
     "data": {
      "text/plain": [
       "np.float64(1.0598915131489651e+24)"
      ]
     },
     "execution_count": 5,
     "metadata": {},
     "output_type": "execute_result"
    }
   ],
   "source": [
    "print(\"flux per km^2 per s per sr = \")\n",
    "W_percm2_perster*sr_pmt/(photon_e_average*ev_to_joules)/Sx_km/Sx_km/(1/(DMSP_h*100000.0))/(1/(DMSP_h*100000.0))"
   ]
  },
  {
   "cell_type": "code",
   "execution_count": 6,
   "id": "02f0275a-554b-4d7f-a8d2-c46db19091ec",
   "metadata": {},
   "outputs": [
    {
     "data": {
      "text/plain": [
       "326.85129967948205"
      ]
     },
     "execution_count": 6,
     "metadata": {},
     "output_type": "execute_result"
    }
   ],
   "source": [
    "DMSP_R1*DMSP_R1*np.pi"
   ]
  },
  {
   "cell_type": "code",
   "execution_count": 7,
   "id": "70f5237b-6695-463c-915e-1163d9128cf6",
   "metadata": {},
   "outputs": [
    {
     "data": {
      "text/plain": [
       "np.float64(0.12115493912284887)"
      ]
     },
     "execution_count": 7,
     "metadata": {},
     "output_type": "execute_result"
    }
   ],
   "source": [
    "2*np.tan(DMSP_IFOV/2.0/180.0*np.pi)*DMSP_h"
   ]
  },
  {
   "cell_type": "code",
   "execution_count": 8,
   "id": "ee23b532-ecec-4d5b-9bc9-40bf3caba1a6",
   "metadata": {},
   "outputs": [
    {
     "data": {
      "text/plain": [
       "np.float64(2.1295179212425452)"
      ]
     },
     "execution_count": 8,
     "metadata": {},
     "output_type": "execute_result"
    }
   ],
   "source": [
    "np.tan(1.0/180.0*np.pi)*DMSP_focus_eff"
   ]
  },
  {
   "cell_type": "code",
   "execution_count": 9,
   "id": "a4bd9c32-ab74-4a10-8e16-0318b9739c69",
   "metadata": {},
   "outputs": [
    {
     "data": {
      "text/plain": [
       "1.56234375e-07"
      ]
     },
     "execution_count": 9,
     "metadata": {},
     "output_type": "execute_result"
    }
   ],
   "source": [
    "(1.0e-5-1.0e-9)/64.0"
   ]
  },
  {
   "cell_type": "code",
   "execution_count": 10,
   "id": "0c6a9a88-bd54-45a2-895a-bd7f20abb865",
   "metadata": {},
   "outputs": [],
   "source": [
    "DMSP_h=833           #km\n",
    "DMSP_IFOV=30*1/60/60 #deg (30 acrs)"
   ]
  },
  {
   "cell_type": "code",
   "execution_count": 11,
   "id": "899cfad1",
   "metadata": {},
   "outputs": [
    {
     "data": {
      "text/plain": [
       "111111.11111111112"
      ]
     },
     "execution_count": 11,
     "metadata": {},
     "output_type": "execute_result"
    }
   ],
   "source": [
    "0.1/3000000/3000000*1.0e+19"
   ]
  },
  {
   "cell_type": "code",
   "execution_count": 12,
   "id": "df682c21",
   "metadata": {},
   "outputs": [],
   "source": [
    "#filename = 'andre-sample-gray.tiff'\n",
    "#image = tifffile.imread(filename)\n",
    "#np.savetxt(filename +'.csv', image, delimiter=',')"
   ]
  },
  {
   "cell_type": "code",
   "execution_count": 13,
   "id": "cb470f5d",
   "metadata": {},
   "outputs": [],
   "source": [
    "filename = 'tmp/F182013.v4c_web.avg_vis.tif'\n",
    "image = tifffile.imread(filename)\n",
    "#np.savetxt(filename +'.csv', image, delimiter=',')"
   ]
  },
  {
   "cell_type": "code",
   "execution_count": 14,
   "id": "29b7a67b",
   "metadata": {},
   "outputs": [
    {
     "data": {
      "text/plain": [
       "array([[6, 6, 7, ..., 6, 6, 6],\n",
       "       [6, 6, 6, ..., 6, 6, 6],\n",
       "       [6, 6, 6, ..., 6, 6, 6],\n",
       "       ...,\n",
       "       [6, 7, 7, ..., 5, 5, 5],\n",
       "       [6, 7, 7, ..., 5, 5, 5],\n",
       "       [0, 0, 0, ..., 0, 0, 0]], dtype=uint8)"
      ]
     },
     "execution_count": 14,
     "metadata": {},
     "output_type": "execute_result"
    }
   ],
   "source": [
    "image"
   ]
  },
  {
   "cell_type": "code",
   "execution_count": 15,
   "id": "11e9b198",
   "metadata": {},
   "outputs": [
    {
     "data": {
      "text/plain": [
       "(16801, 43201)"
      ]
     },
     "execution_count": 15,
     "metadata": {},
     "output_type": "execute_result"
    }
   ],
   "source": [
    "#The products are 30 arc second grids, spanning -180 to 180 degrees\n",
    "#longitude and -65 to 75 degrees latitude. A number of constraints are\n",
    "image.shape"
   ]
  },
  {
   "cell_type": "code",
   "execution_count": 16,
   "id": "0ecb6d4c",
   "metadata": {},
   "outputs": [
    {
     "data": {
      "text/plain": [
       "np.uint8(0)"
      ]
     },
     "execution_count": 16,
     "metadata": {},
     "output_type": "execute_result"
    }
   ],
   "source": [
    "np.min(image)"
   ]
  },
  {
   "cell_type": "code",
   "execution_count": 17,
   "id": "f0a4e20f",
   "metadata": {},
   "outputs": [
    {
     "data": {
      "text/plain": [
       "43200.0"
      ]
     },
     "execution_count": 17,
     "metadata": {},
     "output_type": "execute_result"
    }
   ],
   "source": [
    "180.0*2.0/(30.0/60.0/60.0)"
   ]
  },
  {
   "cell_type": "code",
   "execution_count": 18,
   "id": "d82fb748",
   "metadata": {},
   "outputs": [
    {
     "data": {
      "text/plain": [
       "16800.0"
      ]
     },
     "execution_count": 18,
     "metadata": {},
     "output_type": "execute_result"
    }
   ],
   "source": [
    "(75.0+65)/(30.0/60.0/60.0)"
   ]
  },
  {
   "cell_type": "code",
   "execution_count": 19,
   "id": "18a76fd8",
   "metadata": {},
   "outputs": [
    {
     "data": {
      "text/plain": [
       "43201"
      ]
     },
     "execution_count": 19,
     "metadata": {},
     "output_type": "execute_result"
    }
   ],
   "source": [
    "len(image[0])"
   ]
  },
  {
   "cell_type": "code",
   "execution_count": 20,
   "id": "568de101",
   "metadata": {},
   "outputs": [
    {
     "data": {
      "text/plain": [
       "np.float64(3.732552487210944)"
      ]
     },
     "execution_count": 20,
     "metadata": {},
     "output_type": "execute_result"
    }
   ],
   "source": [
    "np.mean(image[10000])"
   ]
  },
  {
   "cell_type": "code",
   "execution_count": 21,
   "id": "91c3e206",
   "metadata": {},
   "outputs": [
    {
     "data": {
      "text/plain": [
       "(16801, 43201)"
      ]
     },
     "execution_count": 21,
     "metadata": {},
     "output_type": "execute_result"
    }
   ],
   "source": [
    "image.shape"
   ]
  },
  {
   "cell_type": "code",
   "execution_count": 22,
   "id": "3d5a4b74",
   "metadata": {},
   "outputs": [
    {
     "data": {
      "text/plain": [
       "array([[6, 6, 7, ..., 6, 6, 6],\n",
       "       [6, 6, 6, ..., 6, 6, 6],\n",
       "       [6, 6, 6, ..., 6, 6, 6],\n",
       "       ...,\n",
       "       [6, 7, 7, ..., 5, 5, 5],\n",
       "       [6, 7, 7, ..., 5, 5, 5],\n",
       "       [0, 0, 0, ..., 0, 0, 0]], dtype=uint8)"
      ]
     },
     "execution_count": 22,
     "metadata": {},
     "output_type": "execute_result"
    }
   ],
   "source": [
    "image"
   ]
  },
  {
   "cell_type": "code",
   "execution_count": 23,
   "id": "aacb6d37",
   "metadata": {},
   "outputs": [],
   "source": [
    "df=pd.DataFrame(image)"
   ]
  },
  {
   "cell_type": "code",
   "execution_count": 24,
   "id": "78531f16",
   "metadata": {},
   "outputs": [
    {
     "data": {
      "text/plain": [
       "(16801, 43201)"
      ]
     },
     "execution_count": 24,
     "metadata": {},
     "output_type": "execute_result"
    }
   ],
   "source": [
    "df.values.shape"
   ]
  },
  {
   "cell_type": "code",
   "execution_count": 25,
   "id": "bd7c5039",
   "metadata": {},
   "outputs": [],
   "source": [
    "df.to_csv(filename +'.csv', header=False,sep=' ', index=False)"
   ]
  }
 ],
 "metadata": {
  "kernelspec": {
   "display_name": "Python 3 (ipykernel)",
   "language": "python",
   "name": "python3"
  },
  "language_info": {
   "codemirror_mode": {
    "name": "ipython",
    "version": 3
   },
   "file_extension": ".py",
   "mimetype": "text/x-python",
   "name": "python",
   "nbconvert_exporter": "python",
   "pygments_lexer": "ipython3",
   "version": "3.13.1"
  }
 },
 "nbformat": 4,
 "nbformat_minor": 5
}
