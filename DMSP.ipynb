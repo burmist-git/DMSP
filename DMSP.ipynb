{
 "cells": [
  {
   "cell_type": "code",
   "execution_count": 70,
   "id": "933522e5-c203-4cf0-b5ef-458ddb27cdf8",
   "metadata": {},
   "outputs": [],
   "source": [
    "import numpy as np"
   ]
  },
  {
   "cell_type": "code",
   "execution_count": 71,
   "id": "6b67d62d-45a6-4872-8fe5-28c725857bf4",
   "metadata": {},
   "outputs": [],
   "source": [
    "DMSP_R1=20.4/2.0     #cm\n",
    "DMSP_S_eff=239.3     #cm^2\n",
    "DMSP_focus_eff=122.0 #cm\n",
    "DMSP_h=833           #km\n",
    "DMSP_IFOV=30*1/60/60 #deg (30 acrs)"
   ]
  },
  {
   "cell_type": "code",
   "execution_count": 72,
   "id": "ee40e90a-7870-41a4-8cf4-b6ba561ae0a5",
   "metadata": {},
   "outputs": [],
   "source": [
    "ev_to_joules = 1.6022e-19                          # eV/j\n",
    "photon_e_average = 1.85                            # eV\n",
    "sr_pmt=2*np.pi*(1-np.cos(DMSP_IFOV/180.0*np.pi))   # steradian\n",
    "W_percm2_perster = 1.0e-5                          # W per cm2 per steradian\n",
    "Sx_km = 2*np.tan(DMSP_IFOV/2.0/180.0*np.pi)*DMSP_h # km"
   ]
  },
  {
   "cell_type": "code",
   "execution_count": 73,
   "id": "0651e257-4e43-4363-821c-ac61a3493129",
   "metadata": {},
   "outputs": [
    {
     "data": {
      "text/plain": [
       "59.281400000000005"
      ]
     },
     "execution_count": 73,
     "metadata": {},
     "output_type": "execute_result"
    }
   ],
   "source": [
    "N=2.0*10**20\n",
    "N*photon_ev_e*ev_to_joules"
   ]
  },
  {
   "cell_type": "code",
   "execution_count": 74,
   "id": "300fb035-6239-4362-a3c3-e31be48007ef",
   "metadata": {},
   "outputs": [
    {
     "data": {
      "text/plain": [
       "1059891513.1489651"
      ]
     },
     "execution_count": 74,
     "metadata": {},
     "output_type": "execute_result"
    }
   ],
   "source": [
    "W_percm2_perster*sr_pmt/(photon_e_average*ev_to_joules)/Sx_km/Sx_km/(1/(DMSP_h*100000.0))/(1/(DMSP_h*100000.0))/1.0e+9/1.0e+6"
   ]
  },
  {
   "cell_type": "code",
   "execution_count": 49,
   "id": "02f0275a-554b-4d7f-a8d2-c46db19091ec",
   "metadata": {},
   "outputs": [
    {
     "data": {
      "text/plain": [
       "326.85129967948205"
      ]
     },
     "execution_count": 49,
     "metadata": {},
     "output_type": "execute_result"
    }
   ],
   "source": [
    "DMSP_R1*DMSP_R1*np.pi"
   ]
  },
  {
   "cell_type": "code",
   "execution_count": 50,
   "id": "70f5237b-6695-463c-915e-1163d9128cf6",
   "metadata": {},
   "outputs": [
    {
     "data": {
      "text/plain": [
       "0.12115493912284887"
      ]
     },
     "execution_count": 50,
     "metadata": {},
     "output_type": "execute_result"
    }
   ],
   "source": [
    "2*np.tan(DMSP_IFOV/2.0/180.0*np.pi)*DMSP_h"
   ]
  },
  {
   "cell_type": "code",
   "execution_count": 51,
   "id": "ee23b532-ecec-4d5b-9bc9-40bf3caba1a6",
   "metadata": {},
   "outputs": [
    {
     "data": {
      "text/plain": [
       "2.1295179212425452"
      ]
     },
     "execution_count": 51,
     "metadata": {},
     "output_type": "execute_result"
    }
   ],
   "source": [
    "np.tan(1.0/180.0*np.pi)*DMSP_focus_eff"
   ]
  },
  {
   "cell_type": "code",
   "execution_count": 76,
   "id": "a4bd9c32-ab74-4a10-8e16-0318b9739c69",
   "metadata": {},
   "outputs": [
    {
     "data": {
      "text/plain": [
       "1.56234375e-07"
      ]
     },
     "execution_count": 76,
     "metadata": {},
     "output_type": "execute_result"
    }
   ],
   "source": [
    "(1.0e-5-1.0e-9)/64.0"
   ]
  },
  {
   "cell_type": "code",
   "execution_count": null,
   "id": "0c6a9a88-bd54-45a2-895a-bd7f20abb865",
   "metadata": {},
   "outputs": [],
   "source": []
  }
 ],
 "metadata": {
  "kernelspec": {
   "display_name": "Python 3 (ipykernel)",
   "language": "python",
   "name": "python3"
  },
  "language_info": {
   "codemirror_mode": {
    "name": "ipython",
    "version": 3
   },
   "file_extension": ".py",
   "mimetype": "text/x-python",
   "name": "python",
   "nbconvert_exporter": "python",
   "pygments_lexer": "ipython3",
   "version": "3.11.4"
  }
 },
 "nbformat": 4,
 "nbformat_minor": 5
}
